{
 "cells": [
  {
   "cell_type": "code",
   "execution_count": 1,
   "metadata": {
    "collapsed": true
   },
   "outputs": [],
   "source": [
    "import numpy as np\n",
    "import pandas as pd"
   ]
  },
  {
   "cell_type": "code",
   "execution_count": 70,
   "metadata": {
    "collapsed": true
   },
   "outputs": [],
   "source": [
    "x1 = [0, 0, 1, 1]\n",
    "x2 = [0, 1, 0, 1]\n",
    "y = [0, 0, 0, 1]\n",
    "w1 = 0.3\n",
    "w2 = -0.1\n",
    "n = 0.1 # Learning Rate\n",
    "th = 0.2 # Threshold\n",
    "old_weight11 = []\n",
    "old_weight22 = []\n",
    "\n",
    "output = []\n",
    "new_weight11 = []\n",
    "output22 = []\n",
    "new_weight22 = []\n",
    "main = []"
   ]
  },
  {
   "cell_type": "code",
   "execution_count": 71,
   "metadata": {},
   "outputs": [
    {
     "name": "stdout",
     "output_type": "stream",
     "text": [
      "Inputs: Outputs: Old Weight: Output:  Cost: New Weight:\n",
      "==================================== Epoch: 1 ====================================\n",
      "Inputs: 0 0 Outputs: 0 Old Weight: 0.3 -0.1 Output:  0 Cost: 0 New Weight: 0.3 -0.1\n",
      "Inputs: 0 1 Outputs: 0 Old Weight: 0.3 -0.1 Output:  0 Cost: 0 New Weight: 0.3 -0.1\n",
      "Inputs: 1 0 Outputs: 0 Old Weight: 0.3 -0.1 Output:  1 Cost: -1 New Weight: 0.2 -0.1\n",
      "Inputs: 1 1 Outputs: 1 Old Weight: 0.2 -0.1 Output:  0 Cost: 1 New Weight: 0.3 0.0\n",
      "==================================== Epoch: 2 ====================================\n",
      "Inputs: 0 0 Outputs: 0 Old Weight: 0.3 0.0 Output:  0 Cost: 0 New Weight: 0.3 0.0\n",
      "Inputs: 0 1 Outputs: 0 Old Weight: 0.3 0.0 Output:  0 Cost: 0 New Weight: 0.3 0.0\n",
      "Inputs: 1 0 Outputs: 0 Old Weight: 0.3 0.0 Output:  1 Cost: -1 New Weight: 0.2 0.0\n",
      "Inputs: 1 1 Outputs: 1 Old Weight: 0.2 0.0 Output:  1 Cost: 0 New Weight: 0.2 0.0\n",
      "==================================== Epoch: 3 ====================================\n",
      "Inputs: 0 0 Outputs: 0 Old Weight: 0.2 0.0 Output:  0 Cost: 0 New Weight: 0.2 0.0\n",
      "Inputs: 0 1 Outputs: 0 Old Weight: 0.2 0.0 Output:  0 Cost: 0 New Weight: 0.2 0.0\n",
      "Inputs: 1 0 Outputs: 0 Old Weight: 0.2 0.0 Output:  1 Cost: -1 New Weight: 0.1 0.0\n",
      "Inputs: 1 1 Outputs: 1 Old Weight: 0.1 0.0 Output:  0 Cost: 1 New Weight: 0.2 0.1\n",
      "==================================== Epoch: 4 ====================================\n",
      "Inputs: 0 0 Outputs: 0 Old Weight: 0.2 0.1 Output:  0 Cost: 0 New Weight: 0.2 0.1\n",
      "Inputs: 0 1 Outputs: 0 Old Weight: 0.2 0.1 Output:  0 Cost: 0 New Weight: 0.2 0.1\n",
      "Inputs: 1 0 Outputs: 0 Old Weight: 0.2 0.1 Output:  1 Cost: -1 New Weight: 0.1 0.1\n",
      "Inputs: 1 1 Outputs: 1 Old Weight: 0.1 0.1 Output:  1 Cost: 0 New Weight: 0.1 0.1\n",
      "==================================== Epoch: 5 ====================================\n",
      "Inputs: 0 0 Outputs: 0 Old Weight: 0.1 0.1 Output:  0 Cost: 0 New Weight: 0.1 0.1\n",
      "Inputs: 0 1 Outputs: 0 Old Weight: 0.1 0.1 Output:  0 Cost: 0 New Weight: 0.1 0.1\n",
      "Inputs: 1 0 Outputs: 0 Old Weight: 0.1 0.1 Output:  0 Cost: 0 New Weight: 0.1 0.1\n",
      "Final Result: \n",
      "Inputs: 1 1 Outputs: 1 Old Weight: 0.1 0.1 Output:  1 Cost: 0 New Weight: 0.1 0.1\n"
     ]
    }
   ],
   "source": [
    "print( 'Inputs:','Outputs:', 'Old Weight:', 'Output: ', 'Cost:', 'New Weight:')\n",
    "for i in range(5):\n",
    "    print('='*36, 'Epoch:', i+1, '='*36)\n",
    "    error = []\n",
    "    old_weightw1 = []\n",
    "    old_weightw2 = []\n",
    "\n",
    "    output = []\n",
    "    new_weightw1 = []\n",
    "    new_weightw2 = []\n",
    "\n",
    "    temp = []\n",
    "\n",
    "    for j in range(len(x1)):\n",
    "        y_pred =x1[j] * w1 + x2[j] * w2 # Calculating the Y prediction\n",
    "                                        # h(x) = theta1 * x1 + theta2 * x2\n",
    "        if y_pred < th:\n",
    "            # If the predicted value is lesser than the threshold it will assign 0, else 1\n",
    "            y_pred = 0\n",
    "        else:\n",
    "            y_pred = 1\n",
    "            \n",
    "        cost=y[j]-y_pred # Cost Function\n",
    "        temp.append(y_pred)\n",
    "        error.append(cost)\n",
    "        if temp == y:\n",
    "#             print(w1, w2)\n",
    "            print('Final Result: ')\n",
    "            print( 'Inputs:', x1[j], x2[j],'Outputs:', y[j], 'Old Weight:', old_weightw1[j-1], old_weightw2[j-1], \n",
    "              'Output: ', temp[j], 'Cost:', cost, 'New Weight:', new_weightw1[j-1],  new_weightw2[j-1])\n",
    "            break\n",
    "        else:\n",
    "            old_weightw1.append(w1)\n",
    "            old_weightw2.append(w2)\n",
    "            old_weight11.append(w1)\n",
    "            old_weight22.append(w2)\n",
    "\n",
    "            # Updating the weights w1 and w2 \n",
    "            # Rule: Old weight + leraning rate * input * cost\n",
    "            w1 = w1 + n * x1[j] * cost\n",
    "            w1 = float(\"{0:.2f}\".format(w1))\n",
    "            w2 = w2 + n * x2[j] * cost\n",
    "            w2 = float(\"{0:.2f}\".format(w2))\n",
    "            new_weightw1.append(w1)\n",
    "            new_weightw2.append(w2)\n",
    "\n",
    "\n",
    "        print( 'Inputs:', x1[j], x2[j],'Outputs:', y[j], 'Old Weight:', old_weightw1[j], old_weightw2[j], \n",
    "              'Output: ', temp[j], 'Cost:', cost, 'New Weight:', new_weightw1[j],  new_weightw2[j])\n",
    "#         print( x1[j],'|', x2[j],'|', y[j],'|',  old_weightw1[j],'|', old_weightw2[j],'|', \n",
    "#                temp[j],'|',  float(('%2.2f' %cost)),'|', new_weightw1[j],'|',  new_weightw2[j])\n",
    "#     main.append([[i]*4 ,x1, x2, y, old_weightw1,old_weightw2, temp, error, new_weightw1,new_weightw2])\n",
    "    "
   ]
  },
  {
   "cell_type": "code",
   "execution_count": 73,
   "metadata": {},
   "outputs": [
    {
     "data": {
      "text/plain": [
       "array([[-3.  , -2.95, -2.9 , ...,  2.85,  2.9 ,  2.95],\n",
       "       [-3.  , -2.95, -2.9 , ...,  2.85,  2.9 ,  2.95],\n",
       "       [-3.  , -2.95, -2.9 , ...,  2.85,  2.9 ,  2.95],\n",
       "       ...,\n",
       "       [-3.  , -2.95, -2.9 , ...,  2.85,  2.9 ,  2.95],\n",
       "       [-3.  , -2.95, -2.9 , ...,  2.85,  2.9 ,  2.95],\n",
       "       [-3.  , -2.95, -2.9 , ...,  2.85,  2.9 ,  2.95]])"
      ]
     },
     "execution_count": 73,
     "metadata": {},
     "output_type": "execute_result"
    }
   ],
   "source": [
    "X"
   ]
  },
  {
   "cell_type": "code",
   "execution_count": null,
   "metadata": {
    "collapsed": true
   },
   "outputs": [],
   "source": []
  },
  {
   "cell_type": "markdown",
   "metadata": {},
   "source": [
    "## Thank You\n",
    "Shahariar Rabby\n",
    "\n",
    "151 - 15 - 5424"
   ]
  }
 ],
 "metadata": {
  "kernelspec": {
   "display_name": "Python 3",
   "language": "python",
   "name": "python3"
  },
  "language_info": {
   "codemirror_mode": {
    "name": "ipython",
    "version": 3
   },
   "file_extension": ".py",
   "mimetype": "text/x-python",
   "name": "python",
   "nbconvert_exporter": "python",
   "pygments_lexer": "ipython3",
   "version": "3.6.1"
  }
 },
 "nbformat": 4,
 "nbformat_minor": 2
}
