{
 "cells": [
  {
   "cell_type": "code",
   "execution_count": 1,
   "metadata": {
    "collapsed": true
   },
   "outputs": [],
   "source": [
    "# import libraries\n",
    "import pandas as pd\n",
    "import numpy as np\n",
    "from scipy.spatial import distance\n",
    "from sklearn.model_selection import train_test_split\n",
    "from sklearn.metrics import accuracy_score\n",
    "from sklearn import preprocessing"
   ]
  },
  {
   "cell_type": "code",
   "execution_count": 2,
   "metadata": {},
   "outputs": [
    {
     "data": {
      "text/html": [
       "<div>\n",
       "<style scoped>\n",
       "    .dataframe tbody tr th:only-of-type {\n",
       "        vertical-align: middle;\n",
       "    }\n",
       "\n",
       "    .dataframe tbody tr th {\n",
       "        vertical-align: top;\n",
       "    }\n",
       "\n",
       "    .dataframe thead th {\n",
       "        text-align: right;\n",
       "    }\n",
       "</style>\n",
       "<table border=\"1\" class=\"dataframe\">\n",
       "  <thead>\n",
       "    <tr style=\"text-align: right;\">\n",
       "      <th></th>\n",
       "      <th>sepal_length</th>\n",
       "      <th>sepal_width</th>\n",
       "      <th>petal_length</th>\n",
       "      <th>petal_width</th>\n",
       "      <th>species</th>\n",
       "    </tr>\n",
       "  </thead>\n",
       "  <tbody>\n",
       "    <tr>\n",
       "      <th>0</th>\n",
       "      <td>5.1</td>\n",
       "      <td>3.5</td>\n",
       "      <td>1.4</td>\n",
       "      <td>0.2</td>\n",
       "      <td>setosa</td>\n",
       "    </tr>\n",
       "    <tr>\n",
       "      <th>1</th>\n",
       "      <td>4.9</td>\n",
       "      <td>3.0</td>\n",
       "      <td>1.4</td>\n",
       "      <td>0.2</td>\n",
       "      <td>setosa</td>\n",
       "    </tr>\n",
       "    <tr>\n",
       "      <th>2</th>\n",
       "      <td>4.7</td>\n",
       "      <td>3.2</td>\n",
       "      <td>1.3</td>\n",
       "      <td>0.2</td>\n",
       "      <td>setosa</td>\n",
       "    </tr>\n",
       "    <tr>\n",
       "      <th>3</th>\n",
       "      <td>4.6</td>\n",
       "      <td>3.1</td>\n",
       "      <td>1.5</td>\n",
       "      <td>0.2</td>\n",
       "      <td>setosa</td>\n",
       "    </tr>\n",
       "    <tr>\n",
       "      <th>4</th>\n",
       "      <td>5.0</td>\n",
       "      <td>3.6</td>\n",
       "      <td>1.4</td>\n",
       "      <td>0.2</td>\n",
       "      <td>setosa</td>\n",
       "    </tr>\n",
       "  </tbody>\n",
       "</table>\n",
       "</div>"
      ],
      "text/plain": [
       "   sepal_length  sepal_width  petal_length  petal_width species\n",
       "0           5.1          3.5           1.4          0.2  setosa\n",
       "1           4.9          3.0           1.4          0.2  setosa\n",
       "2           4.7          3.2           1.3          0.2  setosa\n",
       "3           4.6          3.1           1.5          0.2  setosa\n",
       "4           5.0          3.6           1.4          0.2  setosa"
      ]
     },
     "execution_count": 2,
     "metadata": {},
     "output_type": "execute_result"
    }
   ],
   "source": [
    "# read data file as dataframe\n",
    "df = pd.read_csv('iris.csv')\n",
    "df.head()"
   ]
  },
  {
   "cell_type": "markdown",
   "metadata": {},
   "source": [
    "# Implement the KNN Algorithm (Manual Implementation) on IRIS Dataset"
   ]
  },
  {
   "cell_type": "code",
   "execution_count": 3,
   "metadata": {
    "collapsed": true
   },
   "outputs": [],
   "source": [
    "def train_test(dataframe):\n",
    "    '''\n",
    "    Split arrays or matrices into random train and test subsets.\n",
    "\n",
    "    Parameters\n",
    "    ----------\n",
    "    dataframe : pandas datafram\n",
    "    pandas imported datafram\n",
    "    '''\n",
    "    \n",
    "    X = dataframe.values[:, :4]  # Selecting Collumn 0-3\n",
    "    # Encode labels with value between 0 and n_classes-1\n",
    "    le = preprocessing.LabelEncoder()  \n",
    "    # Encoding y values to setosa = 0, versicolor = 1, virginica = 2\n",
    "    y = le.fit_transform(df.values[:, 4])  \n",
    "    return train_test_split(X, y, test_size=0.33, random_state=42)"
   ]
  },
  {
   "cell_type": "code",
   "execution_count": 4,
   "metadata": {},
   "outputs": [],
   "source": [
    "def distance_cal(X_test, X_train, metric):\n",
    "    '''\n",
    "    Computes distance between each pair of the two collections of inputs.\n",
    "\n",
    "    Parameters\n",
    "    ----------\n",
    "    X_test : ndarry\n",
    "    the test numpy dataset\n",
    "    X_train : ndarry\n",
    "    the train numpy dataset\n",
    "    metric : str or callable\n",
    "        The distance metric to use.  If a string, the distance function can be\n",
    "        'braycurtis', 'canberra', 'chebyshev', 'cityblock', 'correlation',\n",
    "        'cosine', 'dice', 'euclidean', 'hamming', 'jaccard', 'kulsinski',\n",
    "        'mahalanobis', 'matching', 'minkowski', 'rogerstanimoto', 'russellrao',\n",
    "        'seuclidean', 'sokalmichener', 'sokalsneath', 'sqeuclidean',\n",
    "        'wminkowski', 'yule'.\n",
    "    '''\n",
    "    \n",
    "    return distance.cdist(X_test, X_train, metric)"
   ]
  },
  {
   "cell_type": "code",
   "execution_count": 5,
   "metadata": {
    "collapsed": true
   },
   "outputs": [],
   "source": [
    "def knn_pred(y_train, y_test, distance, neighbours):\n",
    "    '''\n",
    "    Classifier implementing the k-nearest neighbors vote.\n",
    "    \n",
    "    Parameters\n",
    "    ----------\n",
    "    y_train : ndarry\n",
    "    Lable of the training example\n",
    "    y_test : ndarry\n",
    "    Lable of the training example\n",
    "    distance : ndarry\n",
    "    Calculated distance from train and test set\n",
    "    neighbours: int\n",
    "    Number of neighbors to use by default for :meth:`k_neighbors` queries.\n",
    "\n",
    "    '''\n",
    "\n",
    "    y_pred = []\n",
    "    # Sorting the distance and returning the index\n",
    "    index = np.argsort(distance, axis=1) \n",
    "    \n",
    "    for j in range(len(y_test)):\n",
    "        temp = np.zeros(len(np.unique(y_test)))\n",
    "        for i in range(0, neighbours):\n",
    "            index_value = int(index[j][i]) # Getting the index value\n",
    "            value = int(y_train[index_value]) # Getting the label Y\n",
    "            temp[value] += 1 # Increasing value of that index\n",
    "        y_pred.append(np.argmax(temp, axis=0)) # Takong the max frequency index\n",
    "\n",
    "    return y_pred"
   ]
  },
  {
   "cell_type": "code",
   "execution_count": 6,
   "metadata": {},
   "outputs": [
    {
     "name": "stdout",
     "output_type": "stream",
     "text": [
      "Accuracy score is: 1.0\n"
     ]
    }
   ],
   "source": [
    "# randomly shuffle the whole dataset and create train-test partition\n",
    "X_train, X_test, y_train, y_test = train_test(dataframe=df)\n",
    "\n",
    "# calculating distance \n",
    "d = distance_cal(X_test, X_train, 'euclidean')\n",
    "\n",
    "# predicting output\n",
    "y_pred = knn_pred(y_train, y_test, distance=d, neighbours=13)\n",
    "\n",
    "# Calculating accuracy\n",
    "print('Accuracy score is:',accuracy_score(y_test, y_pred))"
   ]
  },
  {
   "cell_type": "markdown",
   "metadata": {},
   "source": [
    "# Plot K VS Accuracy graph (Line Plot) for K = 1, 3....13, 15"
   ]
  },
  {
   "cell_type": "code",
   "execution_count": 7,
   "metadata": {
    "collapsed": true
   },
   "outputs": [],
   "source": [
    "import matplotlib.pyplot as plt\n",
    "\n",
    "%matplotlib inline"
   ]
  },
  {
   "cell_type": "code",
   "execution_count": 8,
   "metadata": {},
   "outputs": [],
   "source": [
    "acc = []\n",
    "for i in range(1, 16,2):\n",
    "    acc.append(accuracy_score(y_test, knn_pred(y_train, \n",
    "                                               y_test, \n",
    "                                               distance=d, \n",
    "                                               neighbours=i)))"
   ]
  },
  {
   "cell_type": "code",
   "execution_count": 9,
   "metadata": {},
   "outputs": [
    {
     "data": {
      "image/png": "[encoded data removed]",
      "text/plain": [
       "<matplotlib.figure.Figure at 0x2891630d358>"
      ]
     },
     "metadata": {},
     "output_type": "display_data"
    }
   ],
   "source": [
    "# ploting the Line Plot\n",
    "plt.figure(figsize=(10,5))                  # set fig size\n",
    "plt.plot(range(1, 16,2),acc)                # set plot \n",
    "plt.xlabel('Number of neighbour')           # set x label \n",
    "plt.ylabel('Accuracy')                      # set y label\n",
    "plt.title('K vs Accuracy Graph')            # set title\n",
    "plt.show()"
   ]
  },
  {
   "cell_type": "markdown",
   "metadata": {},
   "source": [
    "# Thank You\n",
    "**Shahariar Rabby**\n",
    "\n",
    "***151-15-5424***"
   ]
  }
 ],
 "metadata": {
  "kernelspec": {
   "display_name": "Python 3",
   "language": "python",
   "name": "python3"
  },
  "language_info": {
   "codemirror_mode": {
    "name": "ipython",
    "version": 3
   },
   "file_extension": ".py",
   "mimetype": "text/x-python",
   "name": "python",
   "nbconvert_exporter": "python",
   "pygments_lexer": "ipython3",
   "version": "3.6.1"
  }
 },
 "nbformat": 4,
 "nbformat_minor": 2
}
